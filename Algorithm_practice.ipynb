{
 "cells": [
  {
   "cell_type": "code",
   "execution_count": 1,
   "metadata": {},
   "outputs": [
    {
     "ename": "ValueError",
     "evalue": "not enough values to unpack (expected 2, got 0)",
     "output_type": "error",
     "traceback": [
      "\u001b[1;31m---------------------------------------------------------------------------\u001b[0m",
      "\u001b[1;31mValueError\u001b[0m                                Traceback (most recent call last)",
      "Cell \u001b[1;32mIn[1], line 2\u001b[0m\n\u001b[0;32m      1\u001b[0m \u001b[39m# 투빅스 알고리즘 과제 3주차 1번\u001b[39;00m\n\u001b[1;32m----> 2\u001b[0m N, M \u001b[39m=\u001b[39m \u001b[39mmap\u001b[39m(\u001b[39mint\u001b[39m, \u001b[39minput\u001b[39m()\u001b[39m.\u001b[39msplit())\n\u001b[0;32m      3\u001b[0m DNA \u001b[39m=\u001b[39m []\n\u001b[0;32m      5\u001b[0m \u001b[39mfor\u001b[39;00m _ \u001b[39min\u001b[39;00m \u001b[39mrange\u001b[39m(N): \u001b[39m# input DNA를 리스트에 할당하기 \u001b[39;00m\n",
      "\u001b[1;31mValueError\u001b[0m: not enough values to unpack (expected 2, got 0)"
     ]
    }
   ],
   "source": [
    "# 투빅스 알고리즘 과제 3주차 1번\n",
    "N, M = map(int, input().split())\n",
    "DNA = []\n",
    "\n",
    "for _ in range(N): # input DNA를 리스트에 할당하기 \n",
    "    DNA.append(list(map(str,input())))\n",
    "\n",
    "count = 0 # Hamming Distance 길이\n",
    "result = '' # 결과값\n",
    "\n",
    "for i in range(M):\n",
    "    S_count = [0,0,0,0] # -> A,T,G,C 순서\n",
    "    # input 받은 DNA 별로 A,T,G,C 개수 파악하기\n",
    "    for j in range(N):\n",
    "        if DNA[j][i] == \"A\":\n",
    "            S_count[0] += 1\n",
    "        elif DNA[j][i] == \"T\" :\n",
    "            S_count[1] += 1\n",
    "        elif DNA[j][i] == \"G\" :\n",
    "            S_count[2] += 1       \n",
    "        elif DNA[j][i] == \"C\" :\n",
    "            S_count[3] += 1\n",
    "    \n",
    "    # 위에서 파악한 A,T,G,C 개수에 따라서 인덱스를 매겨서 가장 많이 겹치는(max) 문자에 대해서 결과값에 할당\n",
    "    idx = S_count.index(max(S_count))\n",
    "    if idx == 0 :\n",
    "        result += 'A'\n",
    "    elif idx == 1 :\n",
    "        result += 'T'\n",
    "    elif idx == 2 :\n",
    "        result += 'G'\n",
    "    elif idx == 3 :\n",
    "        result += 'C'  \n",
    "    count += N - max(S_count)\n",
    "               \n",
    "print(result)\n",
    "print(count)\n",
    "\n",
    "\n"
   ]
  },
  {
   "cell_type": "code",
   "execution_count": 16,
   "metadata": {},
   "outputs": [
    {
     "name": "stdout",
     "output_type": "stream",
     "text": [
      "0\n"
     ]
    }
   ],
   "source": [
    "W = list(input())\n",
    "\n",
    "answer  = []\n",
    "for i in range(1,len(W)+1):\n",
    "    if W[i-1] == W[-i] :\n",
    "        answer.append(W[i-1])\n",
    "\n",
    "if len(W) == len(answer) :\n",
    "    print(1)\n",
    "\n",
    "else :\n",
    "    print(0)\n",
    "    \n",
    "    \n",
    "\n"
   ]
  },
  {
   "cell_type": "code",
   "execution_count": 12,
   "metadata": {},
   "outputs": [
    {
     "name": "stdout",
     "output_type": "stream",
     "text": [
      "[3, 4, 1, 2, 5]\n"
     ]
    }
   ],
   "source": [
    "# 10811번\n",
    "\n",
    "N, M = map(int, input().split())\n",
    "\n",
    "basket = []\n",
    "\n",
    "for i in range(1, N+1) :\n",
    "    basket.append(i)\n",
    "\n",
    "for _ in range(M):\n",
    "    i, j = map(int, input().split())\n",
    "    \n",
    "    result = basket[i-1:j]\n",
    "    basket[i-1:j] = reversed(result)\n",
    "        \n",
    "        \n",
    "# for _ in range(M):\n",
    "#   i, j = map(int, input().split())\n",
    "#   basket[i-1:j] = baksket[i-1:j][::-1]\n",
    "# 이런 식으로 표현 가능   \n",
    "\n",
    "# 3 4 1 2 5 이런식으로 값 하나하나씩 나오게 하기\n",
    "for i in range(N): \n",
    "    print(basket[i], end = ' ')"
   ]
  },
  {
   "cell_type": "code",
   "execution_count": null,
   "metadata": {},
   "outputs": [],
   "source": [
    "# 2563 색종이 문제\n",
    "\n",
    "N = int(input())\n",
    "\n",
    "arr = [[0]*100 for _ in range(100)]\n",
    "\n",
    "for _ in range(N):\n",
    "    a, b = map(int, input().split())\n",
    "    for i in range(a, a+10):\n",
    "        for j in range(b, b+10):\n",
    "            arr[i][j]+=1\n",
    "\n",
    "count = 0\n",
    "for i in range(100):\n",
    "  for j in range(100):\n",
    "    if arr[i][j]:\n",
    "        count += 1    \n",
    "\n",
    "print(count)"
   ]
  },
  {
   "cell_type": "code",
   "execution_count": null,
   "metadata": {},
   "outputs": [],
   "source": [
    "# 1475 방 번호 문제\n",
    "list =[0,0,0,0,0,0,0,0,0,0]\n",
    "N = input()\n",
    "\n",
    "for i in N :\n",
    "    n = int(i)\n",
    "    if n == 6 or n == 9 :\n",
    "        if list[6] == list[9] :\n",
    "            list[6] += 1\n",
    "        else :\n",
    "            list[9] += 1\n",
    "    else:\n",
    "         list[n] +=1\n",
    "        \n",
    "print(max(list))"
   ]
  },
  {
   "cell_type": "code",
   "execution_count": null,
   "metadata": {},
   "outputs": [],
   "source": [
    "# 1969 DNA 문제\n",
    "n, m = map(int, input().split())\n",
    "DNA = []\n",
    "for _ in range(n):\n",
    "    DNA.append(input())\n",
    "    \n",
    "    \n",
    "cnt = 0 # 해밍 길이\n",
    "result = ''# 결과값\n",
    "for i in range(m):\n",
    "    count = [0, 0, 0, 0]  # A, C, G, T 개수\n",
    "    for j in range(n):\n",
    "        if DNA[j][i] == 'A':\n",
    "            count[0] += 1\n",
    "        elif DNA[j][i] == 'C':\n",
    "            count[1] += 1\n",
    "        elif DNA[j][i] == 'G':\n",
    "             count[2] += 1\n",
    "        elif DNA[j][i] == 'T':\n",
    "            count[3] += 1\n",
    "    idx = count.index(max(count))\n",
    "    if idx == 0:\n",
    "        result += 'A'\n",
    "    elif idx == 1:\n",
    "        result += 'C'\n",
    "    elif idx == 2:\n",
    "         result += 'G'\n",
    "    elif idx == 3:\n",
    "        result += 'T'\n",
    "    cnt += n - max(count)\n",
    "\n",
    "print(result)\n",
    "print(cnt)\n",
    "\n"
   ]
  },
  {
   "cell_type": "code",
   "execution_count": null,
   "metadata": {},
   "outputs": [],
   "source": [
    "# 2503 숫자 야구 문제\n",
    "\n",
    "from itertools import permutations\n",
    "\n",
    "N = int(input()) # 질문횟수\n",
    "\n",
    "# 서로 다른 수의 세 자리 숫자 list로 넣어놓기\n",
    "think_num = list(permutations((1,2,3,4,5,6,7,8,9),3))\n",
    "\n",
    "for _ in range(N):\n",
    "    # 입력받기\n",
    "    quest_num, strike, ball = map(int, input().split())\n",
    "    # str로 list 할당\n",
    "    quest_num = list(str(quest_num))\n",
    "    # 리스트 길이가 중간에 변경되어서 \n",
    "    remove_cnt = 0\n",
    "    \n",
    "    for i in range(len(think_num)):\n",
    "        strike_cnt, ball_cnt = 0, 0\n",
    "        i -= remove_cnt\n",
    "        for j in range(3):\n",
    "            quest_num[j] = int(quest_num[j])\n",
    "            # 생각한 숫자의[i]번째 인덱스에 질문한 숫자의[j]번째 인덱스가 있는가\n",
    "            if quest_num[j] in think_num[i]:\n",
    "                # 존재하면서, 위치도 같을 경우에는 스트라이크 1 추가\n",
    "                if j == think_num[i].index(quest_num[j]):\n",
    "                    strike_cnt += 1\n",
    "                # 아니면 볼 1추가\n",
    "                else:\n",
    "                    ball_cnt += 1   \n",
    "        #입력 받은 stirke, ball과 다를 경우 삭제\n",
    "        if strike_cnt != strike or ball_cnt != ball :\n",
    "            think_num.remove(think_num[i])\n",
    "            remove_cnt += 1 # 리스트 길이\n",
    "            \n",
    "print(len(think_num))# 남은 선택지 횟수"
   ]
  },
  {
   "cell_type": "code",
   "execution_count": 9,
   "metadata": {},
   "outputs": [
    {
     "name": "stdout",
     "output_type": "stream",
     "text": [
      "1\n",
      "3 2\n"
     ]
    }
   ],
   "source": [
    "# 오목\n",
    "\n",
    "# 19 by 19 배열 생성\n",
    "arr = [list(map(int, input().split())) for _ in range(19)]\n",
    "\n",
    "# 왼쪽 바둑알 기준. 따라서 오른쪽, 아래, 왼쪽 대각선, 오른쪽 대각선 총 4가지\n",
    "dir = [(0,1),(1,0),(1,1),(-1,1)]\n",
    "\n",
    "def omok() :\n",
    "    for x in range(19):\n",
    "        for y in range(19):\n",
    "            if not arr[x][y]: #돌이 놓여져 있을 경우\n",
    "                continue\n",
    "            start = arr[x][y] # 시작 지점\n",
    "\n",
    "            #돌 확인\n",
    "            for d in range(4):\n",
    "                count = 1\n",
    "                nx, ny = x + dir[d][0], y + dir[d][1]\n",
    "                \n",
    "                while nx in range(19) and ny in range(19) and arr[nx][ny] == start:\n",
    "                    count += 1    \n",
    "                    #육목 확인\n",
    "                    if count == 5:\n",
    "                        # 이전 돌 확인\n",
    "                        bx, by = x - dir[d][0], y - dir[d][1]\n",
    "                        if bx in range(19) and by in range(19) and arr[bx][by] == start:\n",
    "                            break\n",
    "                        # 다음 돌 확인\n",
    "                        n2x, n2y = nx + dir[d][0], ny + dir[d][1]\n",
    "                        if n2x in range(19) and n2y in range(19) and arr[n2x][n2y] == start:\n",
    "                            break\n",
    "                        \n",
    "                        # 결과\n",
    "                        print(start)\n",
    "                        print(x + 1, y + 1)\n",
    "                        return\n",
    "                    nx += dir[d][0]\n",
    "                    ny += dir[d][1]\n",
    "    # 승부 안 날 경우\n",
    "    print(0)\n",
    "    \n",
    "omok()       "
   ]
  },
  {
   "cell_type": "code",
   "execution_count": 19,
   "metadata": {},
   "outputs": [
    {
     "ename": "TypeError",
     "evalue": "'list' object is not callable",
     "output_type": "error",
     "traceback": [
      "\u001b[1;31m---------------------------------------------------------------------------\u001b[0m",
      "\u001b[1;31mTypeError\u001b[0m                                 Traceback (most recent call last)",
      "Cell \u001b[1;32mIn[19], line 4\u001b[0m\n\u001b[0;32m      1\u001b[0m \u001b[39m# 1157번\u001b[39;00m\n\u001b[0;32m      3\u001b[0m S \u001b[39m=\u001b[39m \u001b[39minput\u001b[39m()\u001b[39m.\u001b[39mupper()\n\u001b[1;32m----> 4\u001b[0m unique_S \u001b[39m=\u001b[39m \u001b[39mlist\u001b[39;49m(\u001b[39mset\u001b[39;49m(S))\n\u001b[0;32m      6\u001b[0m cnt_list \u001b[39m=\u001b[39m[]\n\u001b[0;32m      8\u001b[0m \u001b[39mfor\u001b[39;00m i \u001b[39min\u001b[39;00m unique_S:\n",
      "\u001b[1;31mTypeError\u001b[0m: 'list' object is not callable"
     ]
    }
   ],
   "source": [
    "# 1157번\n",
    "\n",
    "S = input().upper() # 입력값을 모두 대문자로 받음\n",
    "unique_S = list(set(S)) # 받은 입력값들 중 중복 제거\n",
    "\n",
    "cnt_list =[] # 횟수\n",
    "\n",
    "# 각 문자에 대해서 횟수 파악\n",
    "for i in unique_S:\n",
    "    cnt = S.count(i)\n",
    "    cnt_list.append(cnt) \n",
    "\n",
    "# 최대값이 2이상일 경우\n",
    "if cnt_list.count(max(cnt_list))>1:\n",
    "    print(\"?\")\n",
    "else: # 최대값 하나일 경우\n",
    "    max_index = cnt_list.index(max(cnt_list)) # 최대값의 인덱스\n",
    "    print(unique_S[max_index])\n",
    "      \n",
    "\"\"\" for i in range(len(S)):\n",
    "    for j in range(len(S)):\n",
    "        if S[i] == S[j]:\n",
    "            list[i] +=1\n",
    "\n",
    "for i in range(len(list)):\n",
    "    if max(list) == list[i]:\n",
    "        break \"\"\"\n",
    "  \n",
    "\n",
    "        "
   ]
  },
  {
   "cell_type": "code",
   "execution_count": 6,
   "metadata": {},
   "outputs": [
    {
     "name": "stdout",
     "output_type": "stream",
     "text": [
      "4\n"
     ]
    }
   ],
   "source": [
    "# 투빅스 알고리즘 3주차 치킨배달 15686\n",
    "from itertools import combinations\n",
    "\n",
    "N, M = map(int, input().split())\n",
    "\n",
    "arr = [list(map(int, input().split())) for _ in range(N)]\n",
    "\n",
    "result = 999999 # 최대값\n",
    "chicken = []\n",
    "house = []\n",
    "\n",
    "for i in range(N):\n",
    "    for j in range(N):\n",
    "        if arr[i][j] == 1:\n",
    "            house.append([i,j])\n",
    "        if arr[i][j] == 2:\n",
    "            chicken.append([i,j])\n",
    "            \n",
    "for chick in combinations(chicken, M):\n",
    "    dir = 0 #도시의 치킨거리\n",
    "    for h in house:\n",
    "        chick_len = 999 # 각 집마다 치킨 거리 # 최대값\n",
    "        for j in range(M):\n",
    "            chick_len = min(chick_len, abs(h[0]- chick[j][0]) + abs((h[1] - chick[j][1])))\n",
    "        \n",
    "        dir += chick_len\n",
    "    result = min(result, dir)\n",
    "\n",
    "print(result)"
   ]
  },
  {
   "cell_type": "code",
   "execution_count": 2,
   "metadata": {},
   "outputs": [
    {
     "name": "stdout",
     "output_type": "stream",
     "text": [
      "1\n"
     ]
    }
   ],
   "source": [
    "# 검증수\n",
    "\n",
    "arr = list(map(int, input().split()))\n",
    "\n",
    "sum = 0\n",
    "for i in range(len(arr)):\n",
    "    sum += arr[i] ** 2\n",
    "\n",
    "valid_num = sum%10\n",
    "\n",
    "print(valid_num)"
   ]
  },
  {
   "cell_type": "code",
   "execution_count": 21,
   "metadata": {},
   "outputs": [
    {
     "name": "stdout",
     "output_type": "stream",
     "text": [
      "[1]\n",
      "[1, 7]\n",
      "[1, 7, 0]\n",
      "[1, 7, 0, 3]\n",
      "[1, 7, 0, 3, 7]\n",
      "[1, 7, 0, 3, 7, 3]\n",
      "[1, 7, 0, 3, 7, 3, 0]\n",
      "[1, 7, 0, 3, 7, 3, 0, 0]\n",
      "3\n",
      "1\n",
      "0\n",
      "2\n",
      "0\n",
      "0\n",
      "0\n",
      "2\n",
      "0\n",
      "0\n"
     ]
    }
   ],
   "source": [
    "# 숫자의 개수\n",
    "\n",
    "A = int(input())\n",
    "B = int(input())\n",
    "C = int(input())\n",
    "\n",
    "mul = str(A*B*C)\n",
    "num =[]\n",
    "\n",
    "for i in range(len(mul)):\n",
    "    num.append(int(mul[(i)]))\n",
    "\n",
    "for i in range(10):\n",
    "    print(num.count(i))\n",
    "    \n",
    "      "
   ]
  },
  {
   "cell_type": "code",
   "execution_count": 14,
   "metadata": {},
   "outputs": [
    {
     "name": "stdout",
     "output_type": "stream",
     "text": [
      "55\n"
     ]
    }
   ],
   "source": [
    "# 알고리즘 과제 5주차 피보나지 수 2 2748번\n",
    "n = int(input())\n",
    "\n",
    "d = [0] * (n+1) # n 까지의 수열 값 저장\n",
    "\n",
    "def fibo(x):\n",
    "    if x == 0 : # 종료조건 1\n",
    "        return 0\n",
    "    \n",
    "    if x == 1 or x == 2 : # 종료 조건 2\n",
    "        return 1\n",
    "\n",
    "    if d[x] != 0: # 이미 계산한 값이라면 그대로 반환\n",
    "        return d[x]\n",
    "    \n",
    "    # 점화식 생성\n",
    "    d[x] = fibo(x - 1) + fibo(x - 2)\n",
    "    return d[x]\n",
    "\n",
    "print(fibo(n))\n"
   ]
  },
  {
   "cell_type": "code",
   "execution_count": 1,
   "metadata": {},
   "outputs": [
    {
     "name": "stdout",
     "output_type": "stream",
     "text": [
      "\n",
      "Hello\n",
      "Beakjoon\n",
      "Online Judge\n",
      "\n",
      "\n",
      "\n",
      "\n",
      "\n",
      "\n",
      "\n"
     ]
    }
   ],
   "source": [
    "## 11718 그대로 출력 \n",
    "\n",
    "# try except로 에러 예외처리\n",
    "while True:\n",
    "    try:\n",
    "        print(input())\n",
    "    except EOFError: # 에러에 대해서 처리해줌\n",
    "        break\n"
   ]
  },
  {
   "cell_type": "code",
   "execution_count": 22,
   "metadata": {},
   "outputs": [
    {
     "name": "stdout",
     "output_type": "stream",
     "text": [
      "1\n",
      "2\n",
      "3\n",
      "4\n",
      "5\n"
     ]
    }
   ],
   "source": [
    "N = int(input())\n",
    "\n",
    "for i in range(1,N+1):\n",
    "    print(i)"
   ]
  },
  {
   "cell_type": "code",
   "execution_count": 2,
   "metadata": {},
   "outputs": [
    {
     "name": "stdout",
     "output_type": "stream",
     "text": [
      "{1, 2, 3, 4, 5, 6, 7, 8}\n"
     ]
    }
   ],
   "source": [
    "# 음계 2920번\n",
    "\n",
    "scale = list(map(int, input().split()))\n",
    "\n",
    "if set(scale) == scale:\n",
    "    print(\"ascending\")\n",
    "elif set(scale) != scale:\n",
    "    print(\"descending\")    "
   ]
  },
  {
   "cell_type": "code",
   "execution_count": 4,
   "metadata": {},
   "outputs": [
    {
     "name": "stdout",
     "output_type": "stream",
     "text": [
      "10\n"
     ]
    }
   ],
   "source": [
    "# 알고리즘 과제 5주차 동전 1 2293번\n",
    "\n",
    "n, k = map(int, input().split())\n",
    "\n",
    "coin = []\n",
    "dp = [0]*(k+1)\n",
    "\n",
    "for _ in range(n):\n",
    "    coin.append(int(input()))\n",
    "\n",
    "dp[0] = 1\n",
    "for i in coin:\n",
    "    for j in range(i, k+1):\n",
    "        dp[j] += dp[j-i] # 점화식 \n",
    "\n",
    "print(dp[k])"
   ]
  },
  {
   "cell_type": "code",
   "execution_count": 23,
   "metadata": {},
   "outputs": [
    {
     "name": "stdout",
     "output_type": "stream",
     "text": [
      "402\n",
      "1203\n"
     ]
    }
   ],
   "source": [
    "t = int(input())\n",
    "\n",
    "for i in range(t):\n",
    "    h, w, n  = map(int, input().split())\n",
    "    \n",
    "    if n%h == 0 :\n",
    "        num = n//h\n",
    "        floor = h\n",
    "        ans = h*100+num\n",
    "        print(ans)\n",
    "    else :\n",
    "        floor = n%h\n",
    "        num = n//h + 1\n",
    "        ans = floor*100+num\n",
    "        print(ans)"
   ]
  },
  {
   "cell_type": "code",
   "execution_count": 9,
   "metadata": {},
   "outputs": [
    {
     "name": "stdout",
     "output_type": "stream",
     "text": [
      "0\n",
      "0\n",
      "15\n",
      "35\n",
      "45\n",
      "45\n",
      "45\n"
     ]
    }
   ],
   "source": [
    "# 5주차 알고리즘 과제 퇴사 14501번\n",
    "\n",
    "n = int(input())\n",
    "\n",
    "t = []\n",
    "p = []\n",
    "dp = [0]*(n+1)\n",
    "\n",
    "for i in range(n):\n",
    "    T, P = map(int, input().split())\n",
    "    t.append(T)\n",
    "    p.append(P)\n",
    "    \n",
    "for i in range(n-1, -1, -1): # 뒤에서 꺼꾸로 채워나감\n",
    "    if t[i] + i > n: # 상담에 걸리는 시간이 퇴사일 보다 더 클 경우\n",
    "        dp[i] = dp[i+1] # 다음 날 값 그대로 가져오기\n",
    "    else:\n",
    "        dp[i] = max(dp[i+1], dp[t[i] + i] + p[i]) \n",
    "        # 그 날 상담을 안 할 때와 값과, 할 때의 값 중 최대값 선택\n",
    "        \n",
    "print(dp[0])\n",
    "\n",
    "\n",
    "    \n",
    "\n",
    " "
   ]
  }
 ],
 "metadata": {
  "kernelspec": {
   "display_name": "Python 3",
   "language": "python",
   "name": "python3"
  },
  "language_info": {
   "codemirror_mode": {
    "name": "ipython",
    "version": 3
   },
   "file_extension": ".py",
   "mimetype": "text/x-python",
   "name": "python",
   "nbconvert_exporter": "python",
   "pygments_lexer": "ipython3",
   "version": "3.11.4"
  },
  "orig_nbformat": 4
 },
 "nbformat": 4,
 "nbformat_minor": 2
}
